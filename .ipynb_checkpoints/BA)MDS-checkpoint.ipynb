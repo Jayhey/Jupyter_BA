{
 "cells": [
  {
   "cell_type": "code",
   "execution_count": 2,
   "metadata": {
    "collapsed": true
   },
   "outputs": [],
   "source": [
    "import numpy as np\n",
    "import pandas as pd"
   ]
  },
  {
   "cell_type": "code",
   "execution_count": 3,
   "metadata": {
    "collapsed": true
   },
   "outputs": [],
   "source": [
    "df = pd.read_csv(\n",
    "    filepath_or_buffer='https://archive.ics.uci.edu/ml/machine-learning-databases/iris/iris.data',\n",
    "    header=None,\n",
    "    sep=',')\n",
    "X = df.iloc[:, 0:4].values\n",
    "y = df.iloc[:,4].values"
   ]
  },
  {
   "cell_type": "code",
   "execution_count": 4,
   "metadata": {
    "collapsed": true
   },
   "outputs": [],
   "source": [
    "dists = np.zeros((len(X),len(X)))\n",
    "for i in range(len(X)):\n",
    "    for j in range(len(X)):\n",
    "        dists[i,j] = np.sqrt(np.sum((X[i,:]-X[j,:])**2))"
   ]
  },
  {
   "cell_type": "code",
   "execution_count": 5,
   "metadata": {
    "scrolled": true
   },
   "outputs": [
    {
     "data": {
      "text/plain": [
       "array([[ 0.        ,  0.53851648,  0.50990195, ...,  4.45982062,\n",
       "         4.65080638,  4.14004831],\n",
       "       [ 0.53851648,  0.        ,  0.3       , ...,  4.49888875,\n",
       "         4.71805044,  4.15331193],\n",
       "       [ 0.50990195,  0.3       ,  0.        , ...,  4.66154481,\n",
       "         4.84871117,  4.29883705],\n",
       "       ..., \n",
       "       [ 4.45982062,  4.49888875,  4.66154481, ...,  0.        ,\n",
       "         0.6164414 ,  0.64031242],\n",
       "       [ 4.65080638,  4.71805044,  4.84871117, ...,  0.6164414 ,\n",
       "         0.        ,  0.76811457],\n",
       "       [ 4.14004831,  4.15331193,  4.29883705, ...,  0.64031242,\n",
       "         0.76811457,  0.        ]])"
      ]
     },
     "execution_count": 5,
     "metadata": {},
     "output_type": "execute_result"
    }
   ],
   "source": [
    "dists"
   ]
  },
  {
   "cell_type": "markdown",
   "metadata": {},
   "source": [
    "$$ B=HAH,\\quad H=I-\\frac { 1 }{ n } 11^{ T } $$"
   ]
  },
  {
   "cell_type": "code",
   "execution_count": 4,
   "metadata": {
    "collapsed": true
   },
   "outputs": [],
   "source": [
    "n = len(dists)\n",
    "\n",
    "H = np.eye(n) - np.ones((n, n))/n\n",
    "\n",
    "B = -H.dot(dists**2).dot(H)/2\n",
    "\n",
    "evals,evecs = np.linalg.eigh(B) #symmetric matrix에서는 eigh사용."
   ]
  },
  {
   "cell_type": "markdown",
   "metadata": {},
   "source": [
    "$$ B=X{ X }^{ T },\\quad \\quad B=V\\Lambda { V }^{ T },\\quad X={ V }_{ 1 }{ \\Lambda  }_{ 1 }^{ \\frac { 1 }{ 2 }  } $$"
   ]
  },
  {
   "cell_type": "code",
   "execution_count": 5,
   "metadata": {
    "collapsed": true
   },
   "outputs": [],
   "source": [
    "idx = np.argsort(evals)[::-1]\n",
    "evals = evals[idx]\n",
    "evecs = evecs[:,idx]\n",
    "\n",
    "w = np.where(evals > 0)"
   ]
  },
  {
   "cell_type": "code",
   "execution_count": 6,
   "metadata": {
    "collapsed": true
   },
   "outputs": [],
   "source": [
    "L = np.diag(np.sqrt(evals[w]))"
   ]
  },
  {
   "cell_type": "code",
   "execution_count": 7,
   "metadata": {
    "collapsed": true,
    "scrolled": true
   },
   "outputs": [],
   "source": [
    "V = evecs[:,w]\n",
    "V = np.squeeze(V)\n"
   ]
  },
  {
   "cell_type": "code",
   "execution_count": 8,
   "metadata": {
    "collapsed": true,
    "scrolled": true
   },
   "outputs": [],
   "source": [
    "Y = V.dot(L)"
   ]
  },
  {
   "cell_type": "code",
   "execution_count": 11,
   "metadata": {},
   "outputs": [
    {
     "data": {
      "image/png": "[encoded data removed]",
      "text/plain": [
       "<matplotlib.figure.Figure at 0x11a6496a0>"
      ]
     },
     "metadata": {},
     "output_type": "display_data"
    }
   ],
   "source": [
    "import matplotlib.pyplot as plt\n",
    "label = np.unique(y)\n",
    "with plt.style.context(\"seaborn-darkgrid\"):\n",
    "    for l in label:\n",
    "        plt.scatter(Y[y==l,0], Y[y==l,1],label=l)\n",
    "    plt.xlabel(\"dimension 1\")\n",
    "    plt.ylabel(\"dimension 2\")\n",
    "    plt.legend()\n",
    "    plt.show() "
   ]
  },
  {
   "cell_type": "code",
   "execution_count": 12,
   "metadata": {
    "collapsed": true
   },
   "outputs": [],
   "source": [
    "class MDS_jay:\n",
    "    def __init__(self, X, y=0, k=2, category=False):\n",
    "        self.X = X\n",
    "        self.k = k\n",
    "        self.label = y\n",
    "        self.category = category\n",
    "    def distance_mat(self):\n",
    "        self.dists = np.zeros((len(self.X),len(self.X)))\n",
    "        for i in range(len(self.X)):\n",
    "            for j in range(len(self.X)):\n",
    "                self.dists[i,j] = np.sqrt(np.sum((self.X[i,:]-self.X[j,:])**2))\n",
    "        return self.dists\n",
    "    def mds(self):\n",
    "        n = len(self.dists)\n",
    "        H = np.eye(n) - np.ones((n, n))/n\n",
    "        B = -H.dot(dists**2).dot(H)/2\n",
    "        eig_vals,eig_vecs = np.linalg.eigh(B)\n",
    "        idx = np.argsort(eig_vals)[::-1]\n",
    "        eig_vals = eig_vals[idx]\n",
    "        eig_vecs = eig_vecs[:,idx]\n",
    "        w = np.where(eig_vals > 0)\n",
    "        L = np.diag(np.sqrt(eig_vals[w]))\n",
    "        V = eig_vecs[:,w]\n",
    "        V = np.squeeze(V)\n",
    "        Y = V.dot(L)\n",
    "        self.Y = Y[:,:self.k]\n",
    "        return self.Y\n",
    "    def mds_plot(self):\n",
    "        if self.category == True:\n",
    "            label = np.unique(self.label)\n",
    "            with plt.style.context(\"seaborn-darkgrid\"):\n",
    "                for l in label:\n",
    "                    plt.scatter(Y[y==l,0], Y[y==l,1],label=l)\n",
    "                plt.xlabel(\"dimension 1\")\n",
    "                plt.ylabel(\"dimension 2\")\n",
    "                plt.legend()\n",
    "                plt.show() \n",
    "        else:\n",
    "            label = [1]\n",
    "            with plt.style.context(\"seaborn-darkgrid\"):\n",
    "                plt.scatter(Y[:,0], Y[:,1])\n",
    "                plt.xlabel(\"dimension 1\")\n",
    "                plt.ylabel(\"dimension 2\")\n",
    "                plt.show() \n"
   ]
  },
  {
   "cell_type": "code",
   "execution_count": 13,
   "metadata": {
    "collapsed": true
   },
   "outputs": [],
   "source": [
    "test = MDS_jay(X,y=y, k=2, category=True)"
   ]
  },
  {
   "cell_type": "code",
   "execution_count": 14,
   "metadata": {},
   "outputs": [
    {
     "data": {
      "image/png": "[encoded data removed]",
      "text/plain": [
       "<matplotlib.figure.Figure at 0x11a717da0>"
      ]
     },
     "metadata": {},
     "output_type": "display_data"
    }
   ],
   "source": [
    "test.mds_plot()"
   ]
  }
 ],
 "metadata": {
  "kernelspec": {
   "display_name": "Python 3",
   "language": "python",
   "name": "python3"
  },
  "language_info": {
   "codemirror_mode": {
    "name": "ipython",
    "version": 3
   },
   "file_extension": ".py",
   "mimetype": "text/x-python",
   "name": "python",
   "nbconvert_exporter": "python",
   "pygments_lexer": "ipython3",
   "version": "3.6.1"
  }
 },
 "nbformat": 4,
 "nbformat_minor": 2
}
